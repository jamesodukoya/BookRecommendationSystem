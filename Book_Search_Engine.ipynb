{
  "nbformat": 4,
  "nbformat_minor": 0,
  "metadata": {
    "colab": {
      "provenance": [],
      "mount_file_id": "119YZhwLasVZ56Bf-Xy7fiqqhsXyoluAO",
      "authorship_tag": "ABX9TyMe33L6IFe/hbKH70hVESPg",
      "include_colab_link": true
    },
    "kernelspec": {
      "name": "python3",
      "display_name": "Python 3"
    },
    "language_info": {
      "name": "python"
    }
  },
  "cells": [
    {
      "cell_type": "markdown",
      "metadata": {
        "id": "view-in-github",
        "colab_type": "text"
      },
      "source": [
        "<a href=\"https://colab.research.google.com/github/jamesodukoya/BookRecommendationSystem/blob/main/Book_Search_Engine.ipynb\" target=\"_parent\"><img src=\"https://colab.research.google.com/assets/colab-badge.svg\" alt=\"Open In Colab\"/></a>"
      ]
    },
    {
      "cell_type": "markdown",
      "source": [
        "# Book Search Engine"
      ],
      "metadata": {
        "id": "JCJKHcgwjLCL"
      }
    },
    {
      "cell_type": "code",
      "execution_count": 2,
      "metadata": {
        "colab": {
          "base_uri": "https://localhost:8080/"
        },
        "id": "ewEgCydtjHzc",
        "outputId": "f18afd64-5def-4827-e441-c1e0b913554b"
      },
      "outputs": [
        {
          "output_type": "stream",
          "name": "stdout",
          "text": [
            "7588375 /content/drive/MyDrive/ColabNotebooks/goodreads_books.json.gz\n"
          ]
        }
      ],
      "source": [
        "!wc -l /content/drive/MyDrive/ColabNotebooks/goodreads_books.json.gz"
      ]
    },
    {
      "cell_type": "code",
      "source": [
        "!ls -lh | grep goodreads_books.json.gz"
      ],
      "metadata": {
        "id": "vf1U5OzHFIU5"
      },
      "execution_count": 3,
      "outputs": []
    },
    {
      "cell_type": "markdown",
      "source": [
        "##Streaming File to Minimize Memory Usage"
      ],
      "metadata": {
        "id": "LGaOfhGDFG94"
      }
    },
    {
      "cell_type": "code",
      "source": [
        "import gzip\n",
        "\n",
        "with gzip.open(\"/content/drive/MyDrive/ColabNotebooks/goodreads_books.json.gz\") as f:\n",
        "    line = f.readline()"
      ],
      "metadata": {
        "id": "f49RYeqVF0v4"
      },
      "execution_count": 4,
      "outputs": []
    },
    {
      "cell_type": "code",
      "source": [
        "line"
      ],
      "metadata": {
        "colab": {
          "base_uri": "https://localhost:8080/"
        },
        "id": "L1hA0MGjF_Sb",
        "outputId": "f5aafd63-71ec-4cda-dfb4-3dbe36ebcefd"
      },
      "execution_count": 5,
      "outputs": [
        {
          "output_type": "execute_result",
          "data": {
            "text/plain": [
              "b'{\"isbn\": \"0312853122\", \"text_reviews_count\": \"1\", \"series\": [], \"country_code\": \"US\", \"language_code\": \"\", \"popular_shelves\": [{\"count\": \"3\", \"name\": \"to-read\"}, {\"count\": \"1\", \"name\": \"p\"}, {\"count\": \"1\", \"name\": \"collection\"}, {\"count\": \"1\", \"name\": \"w-c-fields\"}, {\"count\": \"1\", \"name\": \"biography\"}], \"asin\": \"\", \"is_ebook\": \"false\", \"average_rating\": \"4.00\", \"kindle_asin\": \"\", \"similar_books\": [], \"description\": \"\", \"format\": \"Paperback\", \"link\": \"https://www.goodreads.com/book/show/5333265-w-c-fields\", \"authors\": [{\"author_id\": \"604031\", \"role\": \"\"}], \"publisher\": \"St. Martin\\'s Press\", \"num_pages\": \"256\", \"publication_day\": \"1\", \"isbn13\": \"9780312853129\", \"publication_month\": \"9\", \"edition_information\": \"\", \"publication_year\": \"1984\", \"url\": \"https://www.goodreads.com/book/show/5333265-w-c-fields\", \"image_url\": \"https://images.gr-assets.com/books/1310220028m/5333265.jpg\", \"book_id\": \"5333265\", \"ratings_count\": \"3\", \"work_id\": \"5400751\", \"title\": \"W.C. Fields: A Life on Film\", \"title_without_series\": \"W.C. Fields: A Life on Film\"}\\n'"
            ]
          },
          "metadata": {},
          "execution_count": 5
        }
      ]
    },
    {
      "cell_type": "code",
      "source": [
        "import json\n",
        "\n",
        "data = json.loads(line)\n",
        "data"
      ],
      "metadata": {
        "colab": {
          "base_uri": "https://localhost:8080/"
        },
        "id": "M7fmz-gxHvY-",
        "outputId": "3a0fef78-aa2c-44f4-a256-c7f50508d0b9"
      },
      "execution_count": 6,
      "outputs": [
        {
          "output_type": "execute_result",
          "data": {
            "text/plain": [
              "{'isbn': '0312853122',\n",
              " 'text_reviews_count': '1',\n",
              " 'series': [],\n",
              " 'country_code': 'US',\n",
              " 'language_code': '',\n",
              " 'popular_shelves': [{'count': '3', 'name': 'to-read'},\n",
              "  {'count': '1', 'name': 'p'},\n",
              "  {'count': '1', 'name': 'collection'},\n",
              "  {'count': '1', 'name': 'w-c-fields'},\n",
              "  {'count': '1', 'name': 'biography'}],\n",
              " 'asin': '',\n",
              " 'is_ebook': 'false',\n",
              " 'average_rating': '4.00',\n",
              " 'kindle_asin': '',\n",
              " 'similar_books': [],\n",
              " 'description': '',\n",
              " 'format': 'Paperback',\n",
              " 'link': 'https://www.goodreads.com/book/show/5333265-w-c-fields',\n",
              " 'authors': [{'author_id': '604031', 'role': ''}],\n",
              " 'publisher': \"St. Martin's Press\",\n",
              " 'num_pages': '256',\n",
              " 'publication_day': '1',\n",
              " 'isbn13': '9780312853129',\n",
              " 'publication_month': '9',\n",
              " 'edition_information': '',\n",
              " 'publication_year': '1984',\n",
              " 'url': 'https://www.goodreads.com/book/show/5333265-w-c-fields',\n",
              " 'image_url': 'https://images.gr-assets.com/books/1310220028m/5333265.jpg',\n",
              " 'book_id': '5333265',\n",
              " 'ratings_count': '3',\n",
              " 'work_id': '5400751',\n",
              " 'title': 'W.C. Fields: A Life on Film',\n",
              " 'title_without_series': 'W.C. Fields: A Life on Film'}"
            ]
          },
          "metadata": {},
          "execution_count": 6
        }
      ]
    },
    {
      "cell_type": "markdown",
      "source": [
        "##Parsing the Required Metadata"
      ],
      "metadata": {
        "id": "-VDsJeLdICnF"
      }
    },
    {
      "cell_type": "code",
      "source": [
        "def parse_fields(line):\n",
        "    data = json.loads(line)\n",
        "    return {\n",
        "        \"book_id\": data[\"book_id\"],\n",
        "        \"title\": data[\"title_without_series\"],\n",
        "        \"ratings\": data[\"ratings_count\"],\n",
        "        \"url\": data[\"url\"],\n",
        "        \"cover_image\": data[\"image_url\"]\n",
        "    }"
      ],
      "metadata": {
        "id": "HbEYITf3IIhv"
      },
      "execution_count": 7,
      "outputs": []
    },
    {
      "cell_type": "markdown",
      "source": [
        "##Integerizing the Book Ratings"
      ],
      "metadata": {
        "id": "5G9lMWx_olKs"
      }
    },
    {
      "cell_type": "code",
      "source": [
        "books_titles = []\n",
        "with gzip.open(\"/content/drive/MyDrive/ColabNotebooks/goodreads_books.json.gz\") as f:\n",
        "    while True:\n",
        "        line = f.readline()\n",
        "        if not line:\n",
        "            break\n",
        "        fields = parse_fields(line)\n",
        "        try:\n",
        "            ratings = int(fields[\"ratings\"])\n",
        "        except ValueError:\n",
        "            continue\n",
        "        if ratings > 5:\n",
        "            books_titles.append(fields)"
      ],
      "metadata": {
        "id": "9zgqvNJDIgOJ"
      },
      "execution_count": 8,
      "outputs": []
    },
    {
      "cell_type": "markdown",
      "source": [
        "##Processing Data Using Pandas"
      ],
      "metadata": {
        "id": "sfeg-HSdpuyt"
      }
    },
    {
      "cell_type": "code",
      "source": [
        "import pandas as pd\n",
        "\n",
        "titles = pd.DataFrame.from_dict(books_titles)"
      ],
      "metadata": {
        "colab": {
          "base_uri": "https://localhost:8080/",
          "height": 597
        },
        "id": "zg3zrCk0pz_P",
        "outputId": "1029bd3a-b47e-4adb-ed29-f7e9139f2da9"
      },
      "execution_count": 9,
      "outputs": [
        {
          "output_type": "execute_result",
          "data": {
            "text/plain": [
              "          book_id                                              title ratings  \\\n",
              "0         1333909                                        Good Harbor      10   \n",
              "1         7327624  The Unschooled Wizard (Sun Wolf and Starhawk, ...     140   \n",
              "2         6066819                               Best Friends Forever   51184   \n",
              "3          287140  Runic Astrology: Starcraft and Timekeeping in ...      15   \n",
              "4          287141                      The Aeneid for Boys and Girls      46   \n",
              "...           ...                                                ...     ...   \n",
              "1782574   3084038  This Sceptred Isle, Vol. 10: The Age of Victor...      12   \n",
              "1782575  26168430                Sherlock Holmes and the July Crisis       6   \n",
              "1782576   2342551           The Children's Classic Poetry Collection      36   \n",
              "1782577  22017381          101 Nights: Volume One (101 Nights, #1-3)      70   \n",
              "1782578  11419866  The Spanish Duke's Virgin Bride (Innocent Mist...       7   \n",
              "\n",
              "                                                       url  \\\n",
              "0        https://www.goodreads.com/book/show/1333909.Go...   \n",
              "1        https://www.goodreads.com/book/show/7327624-th...   \n",
              "2        https://www.goodreads.com/book/show/6066819-be...   \n",
              "3        https://www.goodreads.com/book/show/287140.Run...   \n",
              "4        https://www.goodreads.com/book/show/287141.The...   \n",
              "...                                                    ...   \n",
              "1782574  https://www.goodreads.com/book/show/3084038-th...   \n",
              "1782575  https://www.goodreads.com/book/show/26168430-s...   \n",
              "1782576  https://www.goodreads.com/book/show/2342551.Th...   \n",
              "1782577  https://www.goodreads.com/book/show/22017381-1...   \n",
              "1782578  https://www.goodreads.com/book/show/11419866-t...   \n",
              "\n",
              "                                               cover_image  \n",
              "0        https://s.gr-assets.com/assets/nophoto/book/11...  \n",
              "1        https://images.gr-assets.com/books/1304100136m...  \n",
              "2        https://s.gr-assets.com/assets/nophoto/book/11...  \n",
              "3        https://images.gr-assets.com/books/1413219371m...  \n",
              "4        https://s.gr-assets.com/assets/nophoto/book/11...  \n",
              "...                                                    ...  \n",
              "1782574  https://images.gr-assets.com/books/1494763458m...  \n",
              "1782575  https://images.gr-assets.com/books/1440592011m...  \n",
              "1782576  https://s.gr-assets.com/assets/nophoto/book/11...  \n",
              "1782577  https://images.gr-assets.com/books/1398621236m...  \n",
              "1782578  https://s.gr-assets.com/assets/nophoto/book/11...  \n",
              "\n",
              "[1782579 rows x 5 columns]"
            ],
            "text/html": [
              "\n",
              "  <div id=\"df-058ae394-4226-40bf-bd37-b53823a73f1a\" class=\"colab-df-container\">\n",
              "    <div>\n",
              "<style scoped>\n",
              "    .dataframe tbody tr th:only-of-type {\n",
              "        vertical-align: middle;\n",
              "    }\n",
              "\n",
              "    .dataframe tbody tr th {\n",
              "        vertical-align: top;\n",
              "    }\n",
              "\n",
              "    .dataframe thead th {\n",
              "        text-align: right;\n",
              "    }\n",
              "</style>\n",
              "<table border=\"1\" class=\"dataframe\">\n",
              "  <thead>\n",
              "    <tr style=\"text-align: right;\">\n",
              "      <th></th>\n",
              "      <th>book_id</th>\n",
              "      <th>title</th>\n",
              "      <th>ratings</th>\n",
              "      <th>url</th>\n",
              "      <th>cover_image</th>\n",
              "    </tr>\n",
              "  </thead>\n",
              "  <tbody>\n",
              "    <tr>\n",
              "      <th>0</th>\n",
              "      <td>1333909</td>\n",
              "      <td>Good Harbor</td>\n",
              "      <td>10</td>\n",
              "      <td>https://www.goodreads.com/book/show/1333909.Go...</td>\n",
              "      <td>https://s.gr-assets.com/assets/nophoto/book/11...</td>\n",
              "    </tr>\n",
              "    <tr>\n",
              "      <th>1</th>\n",
              "      <td>7327624</td>\n",
              "      <td>The Unschooled Wizard (Sun Wolf and Starhawk, ...</td>\n",
              "      <td>140</td>\n",
              "      <td>https://www.goodreads.com/book/show/7327624-th...</td>\n",
              "      <td>https://images.gr-assets.com/books/1304100136m...</td>\n",
              "    </tr>\n",
              "    <tr>\n",
              "      <th>2</th>\n",
              "      <td>6066819</td>\n",
              "      <td>Best Friends Forever</td>\n",
              "      <td>51184</td>\n",
              "      <td>https://www.goodreads.com/book/show/6066819-be...</td>\n",
              "      <td>https://s.gr-assets.com/assets/nophoto/book/11...</td>\n",
              "    </tr>\n",
              "    <tr>\n",
              "      <th>3</th>\n",
              "      <td>287140</td>\n",
              "      <td>Runic Astrology: Starcraft and Timekeeping in ...</td>\n",
              "      <td>15</td>\n",
              "      <td>https://www.goodreads.com/book/show/287140.Run...</td>\n",
              "      <td>https://images.gr-assets.com/books/1413219371m...</td>\n",
              "    </tr>\n",
              "    <tr>\n",
              "      <th>4</th>\n",
              "      <td>287141</td>\n",
              "      <td>The Aeneid for Boys and Girls</td>\n",
              "      <td>46</td>\n",
              "      <td>https://www.goodreads.com/book/show/287141.The...</td>\n",
              "      <td>https://s.gr-assets.com/assets/nophoto/book/11...</td>\n",
              "    </tr>\n",
              "    <tr>\n",
              "      <th>...</th>\n",
              "      <td>...</td>\n",
              "      <td>...</td>\n",
              "      <td>...</td>\n",
              "      <td>...</td>\n",
              "      <td>...</td>\n",
              "    </tr>\n",
              "    <tr>\n",
              "      <th>1782574</th>\n",
              "      <td>3084038</td>\n",
              "      <td>This Sceptred Isle, Vol. 10: The Age of Victor...</td>\n",
              "      <td>12</td>\n",
              "      <td>https://www.goodreads.com/book/show/3084038-th...</td>\n",
              "      <td>https://images.gr-assets.com/books/1494763458m...</td>\n",
              "    </tr>\n",
              "    <tr>\n",
              "      <th>1782575</th>\n",
              "      <td>26168430</td>\n",
              "      <td>Sherlock Holmes and the July Crisis</td>\n",
              "      <td>6</td>\n",
              "      <td>https://www.goodreads.com/book/show/26168430-s...</td>\n",
              "      <td>https://images.gr-assets.com/books/1440592011m...</td>\n",
              "    </tr>\n",
              "    <tr>\n",
              "      <th>1782576</th>\n",
              "      <td>2342551</td>\n",
              "      <td>The Children's Classic Poetry Collection</td>\n",
              "      <td>36</td>\n",
              "      <td>https://www.goodreads.com/book/show/2342551.Th...</td>\n",
              "      <td>https://s.gr-assets.com/assets/nophoto/book/11...</td>\n",
              "    </tr>\n",
              "    <tr>\n",
              "      <th>1782577</th>\n",
              "      <td>22017381</td>\n",
              "      <td>101 Nights: Volume One (101 Nights, #1-3)</td>\n",
              "      <td>70</td>\n",
              "      <td>https://www.goodreads.com/book/show/22017381-1...</td>\n",
              "      <td>https://images.gr-assets.com/books/1398621236m...</td>\n",
              "    </tr>\n",
              "    <tr>\n",
              "      <th>1782578</th>\n",
              "      <td>11419866</td>\n",
              "      <td>The Spanish Duke's Virgin Bride (Innocent Mist...</td>\n",
              "      <td>7</td>\n",
              "      <td>https://www.goodreads.com/book/show/11419866-t...</td>\n",
              "      <td>https://s.gr-assets.com/assets/nophoto/book/11...</td>\n",
              "    </tr>\n",
              "  </tbody>\n",
              "</table>\n",
              "<p>1782579 rows × 5 columns</p>\n",
              "</div>\n",
              "    <div class=\"colab-df-buttons\">\n",
              "\n",
              "  <div class=\"colab-df-container\">\n",
              "    <button class=\"colab-df-convert\" onclick=\"convertToInteractive('df-058ae394-4226-40bf-bd37-b53823a73f1a')\"\n",
              "            title=\"Convert this dataframe to an interactive table.\"\n",
              "            style=\"display:none;\">\n",
              "\n",
              "  <svg xmlns=\"http://www.w3.org/2000/svg\" height=\"24px\" viewBox=\"0 -960 960 960\">\n",
              "    <path d=\"M120-120v-720h720v720H120Zm60-500h600v-160H180v160Zm220 220h160v-160H400v160Zm0 220h160v-160H400v160ZM180-400h160v-160H180v160Zm440 0h160v-160H620v160ZM180-180h160v-160H180v160Zm440 0h160v-160H620v160Z\"/>\n",
              "  </svg>\n",
              "    </button>\n",
              "\n",
              "  <style>\n",
              "    .colab-df-container {\n",
              "      display:flex;\n",
              "      gap: 12px;\n",
              "    }\n",
              "\n",
              "    .colab-df-convert {\n",
              "      background-color: #E8F0FE;\n",
              "      border: none;\n",
              "      border-radius: 50%;\n",
              "      cursor: pointer;\n",
              "      display: none;\n",
              "      fill: #1967D2;\n",
              "      height: 32px;\n",
              "      padding: 0 0 0 0;\n",
              "      width: 32px;\n",
              "    }\n",
              "\n",
              "    .colab-df-convert:hover {\n",
              "      background-color: #E2EBFA;\n",
              "      box-shadow: 0px 1px 2px rgba(60, 64, 67, 0.3), 0px 1px 3px 1px rgba(60, 64, 67, 0.15);\n",
              "      fill: #174EA6;\n",
              "    }\n",
              "\n",
              "    .colab-df-buttons div {\n",
              "      margin-bottom: 4px;\n",
              "    }\n",
              "\n",
              "    [theme=dark] .colab-df-convert {\n",
              "      background-color: #3B4455;\n",
              "      fill: #D2E3FC;\n",
              "    }\n",
              "\n",
              "    [theme=dark] .colab-df-convert:hover {\n",
              "      background-color: #434B5C;\n",
              "      box-shadow: 0px 1px 3px 1px rgba(0, 0, 0, 0.15);\n",
              "      filter: drop-shadow(0px 1px 2px rgba(0, 0, 0, 0.3));\n",
              "      fill: #FFFFFF;\n",
              "    }\n",
              "  </style>\n",
              "\n",
              "    <script>\n",
              "      const buttonEl =\n",
              "        document.querySelector('#df-058ae394-4226-40bf-bd37-b53823a73f1a button.colab-df-convert');\n",
              "      buttonEl.style.display =\n",
              "        google.colab.kernel.accessAllowed ? 'block' : 'none';\n",
              "\n",
              "      async function convertToInteractive(key) {\n",
              "        const element = document.querySelector('#df-058ae394-4226-40bf-bd37-b53823a73f1a');\n",
              "        const dataTable =\n",
              "          await google.colab.kernel.invokeFunction('convertToInteractive',\n",
              "                                                    [key], {});\n",
              "        if (!dataTable) return;\n",
              "\n",
              "        const docLinkHtml = 'Like what you see? Visit the ' +\n",
              "          '<a target=\"_blank\" href=https://colab.research.google.com/notebooks/data_table.ipynb>data table notebook</a>'\n",
              "          + ' to learn more about interactive tables.';\n",
              "        element.innerHTML = '';\n",
              "        dataTable['output_type'] = 'display_data';\n",
              "        await google.colab.output.renderOutput(dataTable, element);\n",
              "        const docLink = document.createElement('div');\n",
              "        docLink.innerHTML = docLinkHtml;\n",
              "        element.appendChild(docLink);\n",
              "      }\n",
              "    </script>\n",
              "  </div>\n",
              "\n",
              "\n",
              "<div id=\"df-049e4b70-0f17-4a95-8471-014bc007db82\">\n",
              "  <button class=\"colab-df-quickchart\" onclick=\"quickchart('df-049e4b70-0f17-4a95-8471-014bc007db82')\"\n",
              "            title=\"Suggest charts\"\n",
              "            style=\"display:none;\">\n",
              "\n",
              "<svg xmlns=\"http://www.w3.org/2000/svg\" height=\"24px\"viewBox=\"0 0 24 24\"\n",
              "     width=\"24px\">\n",
              "    <g>\n",
              "        <path d=\"M19 3H5c-1.1 0-2 .9-2 2v14c0 1.1.9 2 2 2h14c1.1 0 2-.9 2-2V5c0-1.1-.9-2-2-2zM9 17H7v-7h2v7zm4 0h-2V7h2v10zm4 0h-2v-4h2v4z\"/>\n",
              "    </g>\n",
              "</svg>\n",
              "  </button>\n",
              "\n",
              "<style>\n",
              "  .colab-df-quickchart {\n",
              "      --bg-color: #E8F0FE;\n",
              "      --fill-color: #1967D2;\n",
              "      --hover-bg-color: #E2EBFA;\n",
              "      --hover-fill-color: #174EA6;\n",
              "      --disabled-fill-color: #AAA;\n",
              "      --disabled-bg-color: #DDD;\n",
              "  }\n",
              "\n",
              "  [theme=dark] .colab-df-quickchart {\n",
              "      --bg-color: #3B4455;\n",
              "      --fill-color: #D2E3FC;\n",
              "      --hover-bg-color: #434B5C;\n",
              "      --hover-fill-color: #FFFFFF;\n",
              "      --disabled-bg-color: #3B4455;\n",
              "      --disabled-fill-color: #666;\n",
              "  }\n",
              "\n",
              "  .colab-df-quickchart {\n",
              "    background-color: var(--bg-color);\n",
              "    border: none;\n",
              "    border-radius: 50%;\n",
              "    cursor: pointer;\n",
              "    display: none;\n",
              "    fill: var(--fill-color);\n",
              "    height: 32px;\n",
              "    padding: 0;\n",
              "    width: 32px;\n",
              "  }\n",
              "\n",
              "  .colab-df-quickchart:hover {\n",
              "    background-color: var(--hover-bg-color);\n",
              "    box-shadow: 0 1px 2px rgba(60, 64, 67, 0.3), 0 1px 3px 1px rgba(60, 64, 67, 0.15);\n",
              "    fill: var(--button-hover-fill-color);\n",
              "  }\n",
              "\n",
              "  .colab-df-quickchart-complete:disabled,\n",
              "  .colab-df-quickchart-complete:disabled:hover {\n",
              "    background-color: var(--disabled-bg-color);\n",
              "    fill: var(--disabled-fill-color);\n",
              "    box-shadow: none;\n",
              "  }\n",
              "\n",
              "  .colab-df-spinner {\n",
              "    border: 2px solid var(--fill-color);\n",
              "    border-color: transparent;\n",
              "    border-bottom-color: var(--fill-color);\n",
              "    animation:\n",
              "      spin 1s steps(1) infinite;\n",
              "  }\n",
              "\n",
              "  @keyframes spin {\n",
              "    0% {\n",
              "      border-color: transparent;\n",
              "      border-bottom-color: var(--fill-color);\n",
              "      border-left-color: var(--fill-color);\n",
              "    }\n",
              "    20% {\n",
              "      border-color: transparent;\n",
              "      border-left-color: var(--fill-color);\n",
              "      border-top-color: var(--fill-color);\n",
              "    }\n",
              "    30% {\n",
              "      border-color: transparent;\n",
              "      border-left-color: var(--fill-color);\n",
              "      border-top-color: var(--fill-color);\n",
              "      border-right-color: var(--fill-color);\n",
              "    }\n",
              "    40% {\n",
              "      border-color: transparent;\n",
              "      border-right-color: var(--fill-color);\n",
              "      border-top-color: var(--fill-color);\n",
              "    }\n",
              "    60% {\n",
              "      border-color: transparent;\n",
              "      border-right-color: var(--fill-color);\n",
              "    }\n",
              "    80% {\n",
              "      border-color: transparent;\n",
              "      border-right-color: var(--fill-color);\n",
              "      border-bottom-color: var(--fill-color);\n",
              "    }\n",
              "    90% {\n",
              "      border-color: transparent;\n",
              "      border-bottom-color: var(--fill-color);\n",
              "    }\n",
              "  }\n",
              "</style>\n",
              "\n",
              "  <script>\n",
              "    async function quickchart(key) {\n",
              "      const quickchartButtonEl =\n",
              "        document.querySelector('#' + key + ' button');\n",
              "      quickchartButtonEl.disabled = true;  // To prevent multiple clicks.\n",
              "      quickchartButtonEl.classList.add('colab-df-spinner');\n",
              "      try {\n",
              "        const charts = await google.colab.kernel.invokeFunction(\n",
              "            'suggestCharts', [key], {});\n",
              "      } catch (error) {\n",
              "        console.error('Error during call to suggestCharts:', error);\n",
              "      }\n",
              "      quickchartButtonEl.classList.remove('colab-df-spinner');\n",
              "      quickchartButtonEl.classList.add('colab-df-quickchart-complete');\n",
              "    }\n",
              "    (() => {\n",
              "      let quickchartButtonEl =\n",
              "        document.querySelector('#df-049e4b70-0f17-4a95-8471-014bc007db82 button');\n",
              "      quickchartButtonEl.style.display =\n",
              "        google.colab.kernel.accessAllowed ? 'block' : 'none';\n",
              "    })();\n",
              "  </script>\n",
              "</div>\n",
              "    </div>\n",
              "  </div>\n"
            ]
          },
          "metadata": {},
          "execution_count": 9
        }
      ]
    },
    {
      "cell_type": "markdown",
      "source": [
        "##Modifying the Metadata to Make Search More Efficient"
      ],
      "metadata": {
        "id": "GktzbCkkqewW"
      }
    },
    {
      "cell_type": "code",
      "source": [
        "titles[\"ratings\"] = pd.to_numeric(titles[\"ratings\"])\n",
        "\n",
        "titles[\"mod_title\"] = titles[\"title\"].str.replace(\"[^a-zA-Z0-9 ]\", \"\", regex=True)\n",
        "\n",
        "titles[\"mod_title\"] = titles[\"mod_title\"].str.lower()\n",
        "\n",
        "titles[\"mod_title\"] = titles[\"mod_title\"].str.replace(\"\\s+\", \" \", regex=True)"
      ],
      "metadata": {
        "id": "PcLkOKdFqB8s"
      },
      "execution_count": 10,
      "outputs": []
    },
    {
      "cell_type": "code",
      "source": [
        "titles = titles[titles[\"mod_title\"].str.len() > 0]"
      ],
      "metadata": {
        "id": "vZkbkyPyrTxs"
      },
      "execution_count": 12,
      "outputs": []
    },
    {
      "cell_type": "code",
      "source": [
        "titles.to_json(\"/content/drive/MyDrive/ColabNotebooks/books_titles.json\")"
      ],
      "metadata": {
        "id": "rbuwfFDKrhyp"
      },
      "execution_count": 13,
      "outputs": []
    },
    {
      "cell_type": "markdown",
      "source": [
        "##Building the Search Engine"
      ],
      "metadata": {
        "id": "X0MkkSgmrwta"
      }
    },
    {
      "cell_type": "markdown",
      "source": [
        "###Constructing Frequency Matrices (Term and Inverse Document(TF-IDF)) Using Scikit Learn"
      ],
      "metadata": {
        "id": "lwZ5L2AxuR3o"
      }
    },
    {
      "cell_type": "code",
      "source": [
        "from sklearn.feature_extraction.text import TfidfVectorizer\n",
        "vectorizer = TfidfVectorizer()\n",
        "\n",
        "tfidf = vectorizer.fit_transform(titles[\"mod_title\"])"
      ],
      "metadata": {
        "id": "7uW-PX7huKoH"
      },
      "execution_count": 14,
      "outputs": []
    },
    {
      "cell_type": "code",
      "source": [
        "from sklearn.metrics.pairwise import cosine_similarity\n",
        "import numpy as np\n",
        "import re\n",
        "\n",
        "def make_clickable(val):\n",
        "    return '<a target=\"_blank\" href=\"{}\">Goodreads</a>'.format(val, val)\n",
        "\n",
        "def show_image(val):\n",
        "    return '<a href=\"{}\"><img src=\"{}\" width=50></img></a>'.format(val, val)\n",
        "\n",
        "def search(query,vectorizer):\n",
        "    processed = re.sub(\"[^a-zA-Z0-9 ]\", \"\", query.lower())\n",
        "    query_vec = vectorizer.transform([query])\n",
        "    similarity = cosine_similarity(query_vec, tfidf).flatten()\n",
        "    indices = np.argpartition(similarity, -10)[-10:]\n",
        "    results = titles.iloc[indices]\n",
        "    results = results.sort_values(\"ratings\", ascending=False)\n",
        "\n",
        "    return results.head(5).style.format({'url': make_clickable, 'cover_image': show_image})"
      ],
      "metadata": {
        "id": "XYxWN0Gkvfik"
      },
      "execution_count": 15,
      "outputs": []
    },
    {
      "cell_type": "markdown",
      "source": [
        "###Testing the Search Engine"
      ],
      "metadata": {
        "id": "wy-26Iu8vkD1"
      }
    },
    {
      "cell_type": "code",
      "source": [
        "search(\"harry potter and the prisoner of azkaban\", vectorizer)"
      ],
      "metadata": {
        "colab": {
          "base_uri": "https://localhost:8080/",
          "height": 482
        },
        "id": "RkhE9OmF5pVw",
        "outputId": "e9651ac9-b84a-48bc-87f2-df35dec90fb2"
      },
      "execution_count": 16,
      "outputs": [
        {
          "output_type": "execute_result",
          "data": {
            "text/plain": [
              "<pandas.io.formats.style.Styler at 0x7ed90e737070>"
            ],
            "text/html": [
              "<style type=\"text/css\">\n",
              "</style>\n",
              "<table id=\"T_eefd3\" class=\"dataframe\">\n",
              "  <thead>\n",
              "    <tr>\n",
              "      <th class=\"blank level0\" >&nbsp;</th>\n",
              "      <th id=\"T_eefd3_level0_col0\" class=\"col_heading level0 col0\" >book_id</th>\n",
              "      <th id=\"T_eefd3_level0_col1\" class=\"col_heading level0 col1\" >title</th>\n",
              "      <th id=\"T_eefd3_level0_col2\" class=\"col_heading level0 col2\" >ratings</th>\n",
              "      <th id=\"T_eefd3_level0_col3\" class=\"col_heading level0 col3\" >url</th>\n",
              "      <th id=\"T_eefd3_level0_col4\" class=\"col_heading level0 col4\" >cover_image</th>\n",
              "      <th id=\"T_eefd3_level0_col5\" class=\"col_heading level0 col5\" >mod_title</th>\n",
              "    </tr>\n",
              "  </thead>\n",
              "  <tbody>\n",
              "    <tr>\n",
              "      <th id=\"T_eefd3_level0_row0\" class=\"row_heading level0 row0\" >754545</th>\n",
              "      <td id=\"T_eefd3_row0_col0\" class=\"data row0 col0\" >464164</td>\n",
              "      <td id=\"T_eefd3_row0_col1\" class=\"data row0 col1\" >Harry Potter and the Prisoner of Azkaban (Harry Potter, #3)</td>\n",
              "      <td id=\"T_eefd3_row0_col2\" class=\"data row0 col2\" >22794</td>\n",
              "      <td id=\"T_eefd3_row0_col3\" class=\"data row0 col3\" ><a target=\"_blank\" href=\"https://www.goodreads.com/book/show/464164.Harry_Potter_and_the_Prisoner_of_Azkaban\">Goodreads</a></td>\n",
              "      <td id=\"T_eefd3_row0_col4\" class=\"data row0 col4\" ><a href=\"https://images.gr-assets.com/books/1310384602m/464164.jpg\"><img src=\"https://images.gr-assets.com/books/1310384602m/464164.jpg\" width=50></img></a></td>\n",
              "      <td id=\"T_eefd3_row0_col5\" class=\"data row0 col5\" >harry potter and the prisoner of azkaban harry potter 3</td>\n",
              "    </tr>\n",
              "    <tr>\n",
              "      <th id=\"T_eefd3_level0_row1\" class=\"row_heading level0 row1\" >1236294</th>\n",
              "      <td id=\"T_eefd3_row1_col0\" class=\"data row1 col0\" >28765183</td>\n",
              "      <td id=\"T_eefd3_row1_col1\" class=\"data row1 col1\" >Harry Potter and the Prisoner of Azkaban</td>\n",
              "      <td id=\"T_eefd3_row1_col2\" class=\"data row1 col2\" >3066</td>\n",
              "      <td id=\"T_eefd3_row1_col3\" class=\"data row1 col3\" ><a target=\"_blank\" href=\"https://www.goodreads.com/book/show/28765183-harry-potter-and-the-prisoner-of-azkaban\">Goodreads</a></td>\n",
              "      <td id=\"T_eefd3_row1_col4\" class=\"data row1 col4\" ><a href=\"https://s.gr-assets.com/assets/nophoto/book/111x148-bcc042a9c91a29c1d680899eff700a03.png\"><img src=\"https://s.gr-assets.com/assets/nophoto/book/111x148-bcc042a9c91a29c1d680899eff700a03.png\" width=50></img></a></td>\n",
              "      <td id=\"T_eefd3_row1_col5\" class=\"data row1 col5\" >harry potter and the prisoner of azkaban</td>\n",
              "    </tr>\n",
              "    <tr>\n",
              "      <th id=\"T_eefd3_level0_row2\" class=\"row_heading level0 row2\" >343661</th>\n",
              "      <td id=\"T_eefd3_row2_col0\" class=\"data row2 col0\" >1132457</td>\n",
              "      <td id=\"T_eefd3_row2_col1\" class=\"data row2 col1\" >Harry Potter and the Prisoner of Azkaban (Harry Potter, #3)</td>\n",
              "      <td id=\"T_eefd3_row2_col2\" class=\"data row2 col2\" >372</td>\n",
              "      <td id=\"T_eefd3_row2_col3\" class=\"data row2 col3\" ><a target=\"_blank\" href=\"https://www.goodreads.com/book/show/1132457.Harry_Potter_and_the_Prisoner_of_Azkaban\">Goodreads</a></td>\n",
              "      <td id=\"T_eefd3_row2_col4\" class=\"data row2 col4\" ><a href=\"https://images.gr-assets.com/books/1467363945m/1132457.jpg\"><img src=\"https://images.gr-assets.com/books/1467363945m/1132457.jpg\" width=50></img></a></td>\n",
              "      <td id=\"T_eefd3_row2_col5\" class=\"data row2 col5\" >harry potter and the prisoner of azkaban harry potter 3</td>\n",
              "    </tr>\n",
              "    <tr>\n",
              "      <th id=\"T_eefd3_level0_row3\" class=\"row_heading level0 row3\" >1202032</th>\n",
              "      <td id=\"T_eefd3_row3_col0\" class=\"data row3 col0\" >1516338</td>\n",
              "      <td id=\"T_eefd3_row3_col1\" class=\"data row3 col1\" >Harry Potter and the Prisoner of Azkaban (Harry Potter, #3)</td>\n",
              "      <td id=\"T_eefd3_row3_col2\" class=\"data row3 col2\" >246</td>\n",
              "      <td id=\"T_eefd3_row3_col3\" class=\"data row3 col3\" ><a target=\"_blank\" href=\"https://www.goodreads.com/book/show/1516338.Harry_Potter_and_the_Prisoner_of_Azkaban\">Goodreads</a></td>\n",
              "      <td id=\"T_eefd3_row3_col4\" class=\"data row3 col4\" ><a href=\"https://s.gr-assets.com/assets/nophoto/book/111x148-bcc042a9c91a29c1d680899eff700a03.png\"><img src=\"https://s.gr-assets.com/assets/nophoto/book/111x148-bcc042a9c91a29c1d680899eff700a03.png\" width=50></img></a></td>\n",
              "      <td id=\"T_eefd3_row3_col5\" class=\"data row3 col5\" >harry potter and the prisoner of azkaban harry potter 3</td>\n",
              "    </tr>\n",
              "    <tr>\n",
              "      <th id=\"T_eefd3_level0_row4\" class=\"row_heading level0 row4\" >440131</th>\n",
              "      <td id=\"T_eefd3_row4_col0\" class=\"data row4 col0\" >13564690</td>\n",
              "      <td id=\"T_eefd3_row4_col1\" class=\"data row4 col1\" >Harry Potter and the Prisoner of Azkaban</td>\n",
              "      <td id=\"T_eefd3_row4_col2\" class=\"data row4 col2\" >216</td>\n",
              "      <td id=\"T_eefd3_row4_col3\" class=\"data row4 col3\" ><a target=\"_blank\" href=\"https://www.goodreads.com/book/show/13564690-harry-potter-and-the-prisoner-of-azkaban\">Goodreads</a></td>\n",
              "      <td id=\"T_eefd3_row4_col4\" class=\"data row4 col4\" ><a href=\"https://images.gr-assets.com/books/1332983314m/13564690.jpg\"><img src=\"https://images.gr-assets.com/books/1332983314m/13564690.jpg\" width=50></img></a></td>\n",
              "      <td id=\"T_eefd3_row4_col5\" class=\"data row4 col5\" >harry potter and the prisoner of azkaban</td>\n",
              "    </tr>\n",
              "  </tbody>\n",
              "</table>\n"
            ]
          },
          "metadata": {},
          "execution_count": 16
        }
      ]
    }
  ]
}